{
 "cells": [
  {
   "cell_type": "code",
   "execution_count": 1,
   "id": "01555cac",
   "metadata": {},
   "outputs": [],
   "source": [
    "import pandas as pd\n",
    "import numpy as np\n",
    "import matplotlib.pyplot as plt\n",
    "import seaborn as sns\n",
    "from sklearn.metrics import classification_report,confusion_matrix\n",
    "%matplotlib inline"
   ]
  },
  {
   "cell_type": "code",
   "execution_count": 2,
   "id": "42c56416",
   "metadata": {},
   "outputs": [
    {
     "name": "stdout",
     "output_type": "stream",
     "text": [
      "<class 'pandas.core.frame.DataFrame'>\n",
      "RangeIndex: 569 entries, 0 to 568\n",
      "Data columns (total 33 columns):\n",
      " #   Column                   Non-Null Count  Dtype  \n",
      "---  ------                   --------------  -----  \n",
      " 0   id                       569 non-null    int64  \n",
      " 1   diagnosis                569 non-null    object \n",
      " 2   radius_mean              569 non-null    float64\n",
      " 3   texture_mean             569 non-null    float64\n",
      " 4   perimeter_mean           569 non-null    float64\n",
      " 5   area_mean                569 non-null    float64\n",
      " 6   smoothness_mean          569 non-null    float64\n",
      " 7   compactness_mean         569 non-null    float64\n",
      " 8   concavity_mean           569 non-null    float64\n",
      " 9   concave points_mean      569 non-null    float64\n",
      " 10  symmetry_mean            569 non-null    float64\n",
      " 11  fractal_dimension_mean   569 non-null    float64\n",
      " 12  radius_se                569 non-null    float64\n",
      " 13  texture_se               569 non-null    float64\n",
      " 14  perimeter_se             569 non-null    float64\n",
      " 15  area_se                  569 non-null    float64\n",
      " 16  smoothness_se            569 non-null    float64\n",
      " 17  compactness_se           569 non-null    float64\n",
      " 18  concavity_se             569 non-null    float64\n",
      " 19  concave points_se        569 non-null    float64\n",
      " 20  symmetry_se              569 non-null    float64\n",
      " 21  fractal_dimension_se     569 non-null    float64\n",
      " 22  radius_worst             569 non-null    float64\n",
      " 23  texture_worst            569 non-null    float64\n",
      " 24  perimeter_worst          569 non-null    float64\n",
      " 25  area_worst               569 non-null    float64\n",
      " 26  smoothness_worst         569 non-null    float64\n",
      " 27  compactness_worst        569 non-null    float64\n",
      " 28  concavity_worst          569 non-null    float64\n",
      " 29  concave points_worst     569 non-null    float64\n",
      " 30  symmetry_worst           569 non-null    float64\n",
      " 31  fractal_dimension_worst  569 non-null    float64\n",
      " 32  Unnamed: 32              0 non-null      float64\n",
      "dtypes: float64(31), int64(1), object(1)\n",
      "memory usage: 146.8+ KB\n"
     ]
    }
   ],
   "source": [
    "df = pd.read_csv('data.csv')\n",
    "df.info()"
   ]
  },
  {
   "cell_type": "code",
   "execution_count": 3,
   "id": "95af2857",
   "metadata": {},
   "outputs": [
    {
     "data": {
      "text/plain": [
       "B    357\n",
       "M    212\n",
       "Name: diagnosis, dtype: int64"
      ]
     },
     "execution_count": 3,
     "metadata": {},
     "output_type": "execute_result"
    }
   ],
   "source": [
    "df['diagnosis'].value_counts()"
   ]
  },
  {
   "cell_type": "code",
   "execution_count": 4,
   "id": "ca4ba3a6",
   "metadata": {},
   "outputs": [
    {
     "name": "stdout",
     "output_type": "stream",
     "text": [
      "<class 'pandas.core.frame.DataFrame'>\n",
      "RangeIndex: 569 entries, 0 to 568\n",
      "Data columns (total 31 columns):\n",
      " #   Column                   Non-Null Count  Dtype  \n",
      "---  ------                   --------------  -----  \n",
      " 0   diagnosis                569 non-null    object \n",
      " 1   radius_mean              569 non-null    float64\n",
      " 2   texture_mean             569 non-null    float64\n",
      " 3   perimeter_mean           569 non-null    float64\n",
      " 4   area_mean                569 non-null    float64\n",
      " 5   smoothness_mean          569 non-null    float64\n",
      " 6   compactness_mean         569 non-null    float64\n",
      " 7   concavity_mean           569 non-null    float64\n",
      " 8   concave points_mean      569 non-null    float64\n",
      " 9   symmetry_mean            569 non-null    float64\n",
      " 10  fractal_dimension_mean   569 non-null    float64\n",
      " 11  radius_se                569 non-null    float64\n",
      " 12  texture_se               569 non-null    float64\n",
      " 13  perimeter_se             569 non-null    float64\n",
      " 14  area_se                  569 non-null    float64\n",
      " 15  smoothness_se            569 non-null    float64\n",
      " 16  compactness_se           569 non-null    float64\n",
      " 17  concavity_se             569 non-null    float64\n",
      " 18  concave points_se        569 non-null    float64\n",
      " 19  symmetry_se              569 non-null    float64\n",
      " 20  fractal_dimension_se     569 non-null    float64\n",
      " 21  radius_worst             569 non-null    float64\n",
      " 22  texture_worst            569 non-null    float64\n",
      " 23  perimeter_worst          569 non-null    float64\n",
      " 24  area_worst               569 non-null    float64\n",
      " 25  smoothness_worst         569 non-null    float64\n",
      " 26  compactness_worst        569 non-null    float64\n",
      " 27  concavity_worst          569 non-null    float64\n",
      " 28  concave points_worst     569 non-null    float64\n",
      " 29  symmetry_worst           569 non-null    float64\n",
      " 30  fractal_dimension_worst  569 non-null    float64\n",
      "dtypes: float64(30), object(1)\n",
      "memory usage: 137.9+ KB\n"
     ]
    }
   ],
   "source": [
    "df=df.drop(['Unnamed: 32','id'],axis=1)\n",
    "x = df.drop('diagnosis',axis=1)\n",
    "y = df['diagnosis']\n",
    "df.info()"
   ]
  },
  {
   "cell_type": "code",
   "execution_count": 5,
   "id": "86f21c2e",
   "metadata": {},
   "outputs": [],
   "source": [
    "from sklearn.model_selection import train_test_split\n",
    "X_train, X_test, y_train, y_test = train_test_split(x, y, test_size=0.30, random_state=101)"
   ]
  },
  {
   "cell_type": "code",
   "execution_count": 6,
   "id": "9fc34daa",
   "metadata": {},
   "outputs": [
    {
     "data": {
      "text/html": [
       "<style>#sk-container-id-1 {color: black;background-color: white;}#sk-container-id-1 pre{padding: 0;}#sk-container-id-1 div.sk-toggleable {background-color: white;}#sk-container-id-1 label.sk-toggleable__label {cursor: pointer;display: block;width: 100%;margin-bottom: 0;padding: 0.3em;box-sizing: border-box;text-align: center;}#sk-container-id-1 label.sk-toggleable__label-arrow:before {content: \"▸\";float: left;margin-right: 0.25em;color: #696969;}#sk-container-id-1 label.sk-toggleable__label-arrow:hover:before {color: black;}#sk-container-id-1 div.sk-estimator:hover label.sk-toggleable__label-arrow:before {color: black;}#sk-container-id-1 div.sk-toggleable__content {max-height: 0;max-width: 0;overflow: hidden;text-align: left;background-color: #f0f8ff;}#sk-container-id-1 div.sk-toggleable__content pre {margin: 0.2em;color: black;border-radius: 0.25em;background-color: #f0f8ff;}#sk-container-id-1 input.sk-toggleable__control:checked~div.sk-toggleable__content {max-height: 200px;max-width: 100%;overflow: auto;}#sk-container-id-1 input.sk-toggleable__control:checked~label.sk-toggleable__label-arrow:before {content: \"▾\";}#sk-container-id-1 div.sk-estimator input.sk-toggleable__control:checked~label.sk-toggleable__label {background-color: #d4ebff;}#sk-container-id-1 div.sk-label input.sk-toggleable__control:checked~label.sk-toggleable__label {background-color: #d4ebff;}#sk-container-id-1 input.sk-hidden--visually {border: 0;clip: rect(1px 1px 1px 1px);clip: rect(1px, 1px, 1px, 1px);height: 1px;margin: -1px;overflow: hidden;padding: 0;position: absolute;width: 1px;}#sk-container-id-1 div.sk-estimator {font-family: monospace;background-color: #f0f8ff;border: 1px dotted black;border-radius: 0.25em;box-sizing: border-box;margin-bottom: 0.5em;}#sk-container-id-1 div.sk-estimator:hover {background-color: #d4ebff;}#sk-container-id-1 div.sk-parallel-item::after {content: \"\";width: 100%;border-bottom: 1px solid gray;flex-grow: 1;}#sk-container-id-1 div.sk-label:hover label.sk-toggleable__label {background-color: #d4ebff;}#sk-container-id-1 div.sk-serial::before {content: \"\";position: absolute;border-left: 1px solid gray;box-sizing: border-box;top: 0;bottom: 0;left: 50%;z-index: 0;}#sk-container-id-1 div.sk-serial {display: flex;flex-direction: column;align-items: center;background-color: white;padding-right: 0.2em;padding-left: 0.2em;position: relative;}#sk-container-id-1 div.sk-item {position: relative;z-index: 1;}#sk-container-id-1 div.sk-parallel {display: flex;align-items: stretch;justify-content: center;background-color: white;position: relative;}#sk-container-id-1 div.sk-item::before, #sk-container-id-1 div.sk-parallel-item::before {content: \"\";position: absolute;border-left: 1px solid gray;box-sizing: border-box;top: 0;bottom: 0;left: 50%;z-index: -1;}#sk-container-id-1 div.sk-parallel-item {display: flex;flex-direction: column;z-index: 1;position: relative;background-color: white;}#sk-container-id-1 div.sk-parallel-item:first-child::after {align-self: flex-end;width: 50%;}#sk-container-id-1 div.sk-parallel-item:last-child::after {align-self: flex-start;width: 50%;}#sk-container-id-1 div.sk-parallel-item:only-child::after {width: 0;}#sk-container-id-1 div.sk-dashed-wrapped {border: 1px dashed gray;margin: 0 0.4em 0.5em 0.4em;box-sizing: border-box;padding-bottom: 0.4em;background-color: white;}#sk-container-id-1 div.sk-label label {font-family: monospace;font-weight: bold;display: inline-block;line-height: 1.2em;}#sk-container-id-1 div.sk-label-container {text-align: center;}#sk-container-id-1 div.sk-container {/* jupyter's `normalize.less` sets `[hidden] { display: none; }` but bootstrap.min.css set `[hidden] { display: none !important; }` so we also need the `!important` here to be able to override the default hidden behavior on the sphinx rendered scikit-learn.org. See: https://github.com/scikit-learn/scikit-learn/issues/21755 */display: inline-block !important;position: relative;}#sk-container-id-1 div.sk-text-repr-fallback {display: none;}</style><div id=\"sk-container-id-1\" class=\"sk-top-container\"><div class=\"sk-text-repr-fallback\"><pre>SVC()</pre><b>In a Jupyter environment, please rerun this cell to show the HTML representation or trust the notebook. <br />On GitHub, the HTML representation is unable to render, please try loading this page with nbviewer.org.</b></div><div class=\"sk-container\" hidden><div class=\"sk-item\"><div class=\"sk-estimator sk-toggleable\"><input class=\"sk-toggleable__control sk-hidden--visually\" id=\"sk-estimator-id-1\" type=\"checkbox\" checked><label for=\"sk-estimator-id-1\" class=\"sk-toggleable__label sk-toggleable__label-arrow\">SVC</label><div class=\"sk-toggleable__content\"><pre>SVC()</pre></div></div></div></div></div>"
      ],
      "text/plain": [
       "SVC()"
      ]
     },
     "execution_count": 6,
     "metadata": {},
     "output_type": "execute_result"
    }
   ],
   "source": [
    "from sklearn.svm import SVC\n",
    "SV_model = SVC()\n",
    "SV_model.fit(X_train,y_train)"
   ]
  },
  {
   "cell_type": "code",
   "execution_count": 7,
   "id": "b158c596",
   "metadata": {},
   "outputs": [
    {
     "name": "stdout",
     "output_type": "stream",
     "text": [
      "[[102   3]\n",
      " [ 10  56]]\n",
      "\n",
      "\n",
      "              precision    recall  f1-score   support\n",
      "\n",
      "           B       0.91      0.97      0.94       105\n",
      "           M       0.95      0.85      0.90        66\n",
      "\n",
      "    accuracy                           0.92       171\n",
      "   macro avg       0.93      0.91      0.92       171\n",
      "weighted avg       0.93      0.92      0.92       171\n",
      "\n"
     ]
    }
   ],
   "source": [
    "predictions = SV_model.predict(X_test)\n",
    "print(confusion_matrix(y_test,predictions))\n",
    "print('\\n')\n",
    "print(classification_report(y_test,predictions))"
   ]
  },
  {
   "cell_type": "code",
   "execution_count": 8,
   "id": "635aaf85",
   "metadata": {},
   "outputs": [
    {
     "name": "stdout",
     "output_type": "stream",
     "text": [
      "Fitting 5 folds for each of 36 candidates, totalling 180 fits\n",
      "[CV 1/5] END ......C=0.01, gamma=10, kernel=rbf;, score=0.637 total time=   0.0s\n",
      "[CV 2/5] END ......C=0.01, gamma=10, kernel=rbf;, score=0.637 total time=   0.0s\n",
      "[CV 3/5] END ......C=0.01, gamma=10, kernel=rbf;, score=0.625 total time=   0.0s\n",
      "[CV 4/5] END ......C=0.01, gamma=10, kernel=rbf;, score=0.633 total time=   0.0s\n",
      "[CV 5/5] END ......C=0.01, gamma=10, kernel=rbf;, score=0.633 total time=   0.0s\n",
      "[CV 1/5] END .......C=0.01, gamma=1, kernel=rbf;, score=0.637 total time=   0.0s\n",
      "[CV 2/5] END .......C=0.01, gamma=1, kernel=rbf;, score=0.637 total time=   0.0s\n",
      "[CV 3/5] END .......C=0.01, gamma=1, kernel=rbf;, score=0.625 total time=   0.0s\n",
      "[CV 4/5] END .......C=0.01, gamma=1, kernel=rbf;, score=0.633 total time=   0.0s\n",
      "[CV 5/5] END .......C=0.01, gamma=1, kernel=rbf;, score=0.633 total time=   0.0s\n",
      "[CV 1/5] END .....C=0.01, gamma=0.1, kernel=rbf;, score=0.637 total time=   0.0s\n",
      "[CV 2/5] END .....C=0.01, gamma=0.1, kernel=rbf;, score=0.637 total time=   0.0s\n",
      "[CV 3/5] END .....C=0.01, gamma=0.1, kernel=rbf;, score=0.625 total time=   0.0s\n",
      "[CV 4/5] END .....C=0.01, gamma=0.1, kernel=rbf;, score=0.633 total time=   0.0s\n",
      "[CV 5/5] END .....C=0.01, gamma=0.1, kernel=rbf;, score=0.633 total time=   0.0s\n",
      "[CV 1/5] END ....C=0.01, gamma=0.01, kernel=rbf;, score=0.637 total time=   0.0s\n",
      "[CV 2/5] END ....C=0.01, gamma=0.01, kernel=rbf;, score=0.637 total time=   0.0s\n",
      "[CV 3/5] END ....C=0.01, gamma=0.01, kernel=rbf;, score=0.625 total time=   0.0s\n",
      "[CV 4/5] END ....C=0.01, gamma=0.01, kernel=rbf;, score=0.633 total time=   0.0s\n",
      "[CV 5/5] END ....C=0.01, gamma=0.01, kernel=rbf;, score=0.633 total time=   0.0s\n",
      "[CV 1/5] END ...C=0.01, gamma=0.001, kernel=rbf;, score=0.637 total time=   0.0s\n",
      "[CV 2/5] END ...C=0.01, gamma=0.001, kernel=rbf;, score=0.637 total time=   0.0s\n",
      "[CV 3/5] END ...C=0.01, gamma=0.001, kernel=rbf;, score=0.625 total time=   0.0s\n",
      "[CV 4/5] END ...C=0.01, gamma=0.001, kernel=rbf;, score=0.633 total time=   0.0s\n",
      "[CV 5/5] END ...C=0.01, gamma=0.001, kernel=rbf;, score=0.633 total time=   0.0s\n",
      "[CV 1/5] END ..C=0.01, gamma=0.0001, kernel=rbf;, score=0.637 total time=   0.0s\n",
      "[CV 2/5] END ..C=0.01, gamma=0.0001, kernel=rbf;, score=0.637 total time=   0.0s\n",
      "[CV 3/5] END ..C=0.01, gamma=0.0001, kernel=rbf;, score=0.625 total time=   0.0s\n",
      "[CV 4/5] END ..C=0.01, gamma=0.0001, kernel=rbf;, score=0.633 total time=   0.0s\n",
      "[CV 5/5] END ..C=0.01, gamma=0.0001, kernel=rbf;, score=0.633 total time=   0.0s\n",
      "[CV 1/5] END .......C=0.1, gamma=10, kernel=rbf;, score=0.637 total time=   0.0s\n",
      "[CV 2/5] END .......C=0.1, gamma=10, kernel=rbf;, score=0.637 total time=   0.0s\n",
      "[CV 3/5] END .......C=0.1, gamma=10, kernel=rbf;, score=0.625 total time=   0.0s\n",
      "[CV 4/5] END .......C=0.1, gamma=10, kernel=rbf;, score=0.633 total time=   0.0s\n",
      "[CV 5/5] END .......C=0.1, gamma=10, kernel=rbf;, score=0.633 total time=   0.0s\n",
      "[CV 1/5] END ........C=0.1, gamma=1, kernel=rbf;, score=0.637 total time=   0.0s\n",
      "[CV 2/5] END ........C=0.1, gamma=1, kernel=rbf;, score=0.637 total time=   0.0s\n",
      "[CV 3/5] END ........C=0.1, gamma=1, kernel=rbf;, score=0.625 total time=   0.0s\n",
      "[CV 4/5] END ........C=0.1, gamma=1, kernel=rbf;, score=0.633 total time=   0.0s\n",
      "[CV 5/5] END ........C=0.1, gamma=1, kernel=rbf;, score=0.633 total time=   0.0s\n",
      "[CV 1/5] END ......C=0.1, gamma=0.1, kernel=rbf;, score=0.637 total time=   0.0s\n",
      "[CV 2/5] END ......C=0.1, gamma=0.1, kernel=rbf;, score=0.637 total time=   0.0s\n",
      "[CV 3/5] END ......C=0.1, gamma=0.1, kernel=rbf;, score=0.625 total time=   0.0s\n",
      "[CV 4/5] END ......C=0.1, gamma=0.1, kernel=rbf;, score=0.633 total time=   0.0s\n",
      "[CV 5/5] END ......C=0.1, gamma=0.1, kernel=rbf;, score=0.633 total time=   0.0s\n",
      "[CV 1/5] END .....C=0.1, gamma=0.01, kernel=rbf;, score=0.637 total time=   0.0s\n",
      "[CV 2/5] END .....C=0.1, gamma=0.01, kernel=rbf;, score=0.637 total time=   0.0s\n",
      "[CV 3/5] END .....C=0.1, gamma=0.01, kernel=rbf;, score=0.625 total time=   0.0s\n",
      "[CV 4/5] END .....C=0.1, gamma=0.01, kernel=rbf;, score=0.633 total time=   0.0s\n",
      "[CV 5/5] END .....C=0.1, gamma=0.01, kernel=rbf;, score=0.633 total time=   0.0s\n",
      "[CV 1/5] END ....C=0.1, gamma=0.001, kernel=rbf;, score=0.637 total time=   0.0s\n",
      "[CV 2/5] END ....C=0.1, gamma=0.001, kernel=rbf;, score=0.637 total time=   0.0s\n",
      "[CV 3/5] END ....C=0.1, gamma=0.001, kernel=rbf;, score=0.625 total time=   0.0s\n",
      "[CV 4/5] END ....C=0.1, gamma=0.001, kernel=rbf;, score=0.633 total time=   0.0s\n",
      "[CV 5/5] END ....C=0.1, gamma=0.001, kernel=rbf;, score=0.633 total time=   0.0s\n",
      "[CV 1/5] END ...C=0.1, gamma=0.0001, kernel=rbf;, score=0.887 total time=   0.0s\n",
      "[CV 2/5] END ...C=0.1, gamma=0.0001, kernel=rbf;, score=0.938 total time=   0.0s\n",
      "[CV 3/5] END ...C=0.1, gamma=0.0001, kernel=rbf;, score=0.963 total time=   0.0s\n",
      "[CV 4/5] END ...C=0.1, gamma=0.0001, kernel=rbf;, score=0.962 total time=   0.0s\n",
      "[CV 5/5] END ...C=0.1, gamma=0.0001, kernel=rbf;, score=0.886 total time=   0.0s\n",
      "[CV 1/5] END .........C=1, gamma=10, kernel=rbf;, score=0.637 total time=   0.0s\n",
      "[CV 2/5] END .........C=1, gamma=10, kernel=rbf;, score=0.637 total time=   0.0s\n",
      "[CV 3/5] END .........C=1, gamma=10, kernel=rbf;, score=0.625 total time=   0.0s\n",
      "[CV 4/5] END .........C=1, gamma=10, kernel=rbf;, score=0.633 total time=   0.0s\n",
      "[CV 5/5] END .........C=1, gamma=10, kernel=rbf;, score=0.633 total time=   0.0s\n",
      "[CV 1/5] END ..........C=1, gamma=1, kernel=rbf;, score=0.637 total time=   0.0s\n",
      "[CV 2/5] END ..........C=1, gamma=1, kernel=rbf;, score=0.637 total time=   0.0s\n",
      "[CV 3/5] END ..........C=1, gamma=1, kernel=rbf;, score=0.625 total time=   0.0s\n",
      "[CV 4/5] END ..........C=1, gamma=1, kernel=rbf;, score=0.633 total time=   0.0s\n",
      "[CV 5/5] END ..........C=1, gamma=1, kernel=rbf;, score=0.633 total time=   0.0s\n",
      "[CV 1/5] END ........C=1, gamma=0.1, kernel=rbf;, score=0.637 total time=   0.0s\n",
      "[CV 2/5] END ........C=1, gamma=0.1, kernel=rbf;, score=0.637 total time=   0.0s\n",
      "[CV 3/5] END ........C=1, gamma=0.1, kernel=rbf;, score=0.625 total time=   0.0s\n",
      "[CV 4/5] END ........C=1, gamma=0.1, kernel=rbf;, score=0.633 total time=   0.0s\n",
      "[CV 5/5] END ........C=1, gamma=0.1, kernel=rbf;, score=0.633 total time=   0.0s\n",
      "[CV 1/5] END .......C=1, gamma=0.01, kernel=rbf;, score=0.637 total time=   0.0s\n",
      "[CV 2/5] END .......C=1, gamma=0.01, kernel=rbf;, score=0.637 total time=   0.0s\n",
      "[CV 3/5] END .......C=1, gamma=0.01, kernel=rbf;, score=0.625 total time=   0.0s\n",
      "[CV 4/5] END .......C=1, gamma=0.01, kernel=rbf;, score=0.633 total time=   0.0s\n",
      "[CV 5/5] END .......C=1, gamma=0.01, kernel=rbf;, score=0.633 total time=   0.0s\n",
      "[CV 1/5] END ......C=1, gamma=0.001, kernel=rbf;, score=0.900 total time=   0.0s\n",
      "[CV 2/5] END ......C=1, gamma=0.001, kernel=rbf;, score=0.912 total time=   0.0s\n",
      "[CV 3/5] END ......C=1, gamma=0.001, kernel=rbf;, score=0.925 total time=   0.0s\n",
      "[CV 4/5] END ......C=1, gamma=0.001, kernel=rbf;, score=0.962 total time=   0.0s\n",
      "[CV 5/5] END ......C=1, gamma=0.001, kernel=rbf;, score=0.937 total time=   0.0s\n",
      "[CV 1/5] END .....C=1, gamma=0.0001, kernel=rbf;, score=0.912 total time=   0.0s\n",
      "[CV 2/5] END .....C=1, gamma=0.0001, kernel=rbf;, score=0.950 total time=   0.0s\n",
      "[CV 3/5] END .....C=1, gamma=0.0001, kernel=rbf;, score=0.975 total time=   0.0s\n",
      "[CV 4/5] END .....C=1, gamma=0.0001, kernel=rbf;, score=0.962 total time=   0.0s\n",
      "[CV 5/5] END .....C=1, gamma=0.0001, kernel=rbf;, score=0.937 total time=   0.0s\n",
      "[CV 1/5] END ........C=10, gamma=10, kernel=rbf;, score=0.637 total time=   0.0s\n",
      "[CV 2/5] END ........C=10, gamma=10, kernel=rbf;, score=0.637 total time=   0.0s\n",
      "[CV 3/5] END ........C=10, gamma=10, kernel=rbf;, score=0.625 total time=   0.0s\n",
      "[CV 4/5] END ........C=10, gamma=10, kernel=rbf;, score=0.633 total time=   0.0s\n",
      "[CV 5/5] END ........C=10, gamma=10, kernel=rbf;, score=0.633 total time=   0.0s\n",
      "[CV 1/5] END .........C=10, gamma=1, kernel=rbf;, score=0.637 total time=   0.0s\n",
      "[CV 2/5] END .........C=10, gamma=1, kernel=rbf;, score=0.637 total time=   0.0s\n",
      "[CV 3/5] END .........C=10, gamma=1, kernel=rbf;, score=0.625 total time=   0.0s\n",
      "[CV 4/5] END .........C=10, gamma=1, kernel=rbf;, score=0.633 total time=   0.0s\n",
      "[CV 5/5] END .........C=10, gamma=1, kernel=rbf;, score=0.633 total time=   0.0s\n",
      "[CV 1/5] END .......C=10, gamma=0.1, kernel=rbf;, score=0.637 total time=   0.0s\n",
      "[CV 2/5] END .......C=10, gamma=0.1, kernel=rbf;, score=0.637 total time=   0.0s\n"
     ]
    },
    {
     "name": "stdout",
     "output_type": "stream",
     "text": [
      "[CV 3/5] END .......C=10, gamma=0.1, kernel=rbf;, score=0.625 total time=   0.0s\n",
      "[CV 4/5] END .......C=10, gamma=0.1, kernel=rbf;, score=0.633 total time=   0.0s\n",
      "[CV 5/5] END .......C=10, gamma=0.1, kernel=rbf;, score=0.633 total time=   0.0s\n",
      "[CV 1/5] END ......C=10, gamma=0.01, kernel=rbf;, score=0.637 total time=   0.0s\n",
      "[CV 2/5] END ......C=10, gamma=0.01, kernel=rbf;, score=0.637 total time=   0.0s\n",
      "[CV 3/5] END ......C=10, gamma=0.01, kernel=rbf;, score=0.613 total time=   0.0s\n",
      "[CV 4/5] END ......C=10, gamma=0.01, kernel=rbf;, score=0.633 total time=   0.0s\n",
      "[CV 5/5] END ......C=10, gamma=0.01, kernel=rbf;, score=0.633 total time=   0.0s\n",
      "[CV 1/5] END .....C=10, gamma=0.001, kernel=rbf;, score=0.887 total time=   0.0s\n",
      "[CV 2/5] END .....C=10, gamma=0.001, kernel=rbf;, score=0.912 total time=   0.0s\n",
      "[CV 3/5] END .....C=10, gamma=0.001, kernel=rbf;, score=0.900 total time=   0.0s\n",
      "[CV 4/5] END .....C=10, gamma=0.001, kernel=rbf;, score=0.937 total time=   0.0s\n",
      "[CV 5/5] END .....C=10, gamma=0.001, kernel=rbf;, score=0.924 total time=   0.0s\n",
      "[CV 1/5] END ....C=10, gamma=0.0001, kernel=rbf;, score=0.950 total time=   0.0s\n",
      "[CV 2/5] END ....C=10, gamma=0.0001, kernel=rbf;, score=0.912 total time=   0.0s\n",
      "[CV 3/5] END ....C=10, gamma=0.0001, kernel=rbf;, score=0.975 total time=   0.0s\n",
      "[CV 4/5] END ....C=10, gamma=0.0001, kernel=rbf;, score=0.949 total time=   0.0s\n",
      "[CV 5/5] END ....C=10, gamma=0.0001, kernel=rbf;, score=0.949 total time=   0.0s\n",
      "[CV 1/5] END .......C=100, gamma=10, kernel=rbf;, score=0.637 total time=   0.0s\n",
      "[CV 2/5] END .......C=100, gamma=10, kernel=rbf;, score=0.637 total time=   0.0s\n",
      "[CV 3/5] END .......C=100, gamma=10, kernel=rbf;, score=0.625 total time=   0.0s\n",
      "[CV 4/5] END .......C=100, gamma=10, kernel=rbf;, score=0.633 total time=   0.0s\n",
      "[CV 5/5] END .......C=100, gamma=10, kernel=rbf;, score=0.633 total time=   0.0s\n",
      "[CV 1/5] END ........C=100, gamma=1, kernel=rbf;, score=0.637 total time=   0.0s\n",
      "[CV 2/5] END ........C=100, gamma=1, kernel=rbf;, score=0.637 total time=   0.0s\n",
      "[CV 3/5] END ........C=100, gamma=1, kernel=rbf;, score=0.625 total time=   0.0s\n",
      "[CV 4/5] END ........C=100, gamma=1, kernel=rbf;, score=0.633 total time=   0.0s\n",
      "[CV 5/5] END ........C=100, gamma=1, kernel=rbf;, score=0.633 total time=   0.0s\n",
      "[CV 1/5] END ......C=100, gamma=0.1, kernel=rbf;, score=0.637 total time=   0.0s\n",
      "[CV 2/5] END ......C=100, gamma=0.1, kernel=rbf;, score=0.637 total time=   0.0s\n",
      "[CV 3/5] END ......C=100, gamma=0.1, kernel=rbf;, score=0.625 total time=   0.0s\n",
      "[CV 4/5] END ......C=100, gamma=0.1, kernel=rbf;, score=0.633 total time=   0.0s\n",
      "[CV 5/5] END ......C=100, gamma=0.1, kernel=rbf;, score=0.633 total time=   0.0s\n",
      "[CV 1/5] END .....C=100, gamma=0.01, kernel=rbf;, score=0.637 total time=   0.0s\n",
      "[CV 2/5] END .....C=100, gamma=0.01, kernel=rbf;, score=0.637 total time=   0.0s\n",
      "[CV 3/5] END .....C=100, gamma=0.01, kernel=rbf;, score=0.613 total time=   0.0s\n",
      "[CV 4/5] END .....C=100, gamma=0.01, kernel=rbf;, score=0.633 total time=   0.0s\n",
      "[CV 5/5] END .....C=100, gamma=0.01, kernel=rbf;, score=0.633 total time=   0.0s\n",
      "[CV 1/5] END ....C=100, gamma=0.001, kernel=rbf;, score=0.887 total time=   0.0s\n",
      "[CV 2/5] END ....C=100, gamma=0.001, kernel=rbf;, score=0.912 total time=   0.0s\n",
      "[CV 3/5] END ....C=100, gamma=0.001, kernel=rbf;, score=0.900 total time=   0.0s\n",
      "[CV 4/5] END ....C=100, gamma=0.001, kernel=rbf;, score=0.937 total time=   0.0s\n",
      "[CV 5/5] END ....C=100, gamma=0.001, kernel=rbf;, score=0.924 total time=   0.0s\n",
      "[CV 1/5] END ...C=100, gamma=0.0001, kernel=rbf;, score=0.925 total time=   0.0s\n",
      "[CV 2/5] END ...C=100, gamma=0.0001, kernel=rbf;, score=0.912 total time=   0.0s\n",
      "[CV 3/5] END ...C=100, gamma=0.0001, kernel=rbf;, score=0.975 total time=   0.0s\n",
      "[CV 4/5] END ...C=100, gamma=0.0001, kernel=rbf;, score=0.937 total time=   0.0s\n",
      "[CV 5/5] END ...C=100, gamma=0.0001, kernel=rbf;, score=0.949 total time=   0.0s\n",
      "[CV 1/5] END ......C=1000, gamma=10, kernel=rbf;, score=0.637 total time=   0.0s\n",
      "[CV 2/5] END ......C=1000, gamma=10, kernel=rbf;, score=0.637 total time=   0.0s\n",
      "[CV 3/5] END ......C=1000, gamma=10, kernel=rbf;, score=0.625 total time=   0.0s\n",
      "[CV 4/5] END ......C=1000, gamma=10, kernel=rbf;, score=0.633 total time=   0.0s\n",
      "[CV 5/5] END ......C=1000, gamma=10, kernel=rbf;, score=0.633 total time=   0.0s\n",
      "[CV 1/5] END .......C=1000, gamma=1, kernel=rbf;, score=0.637 total time=   0.0s\n",
      "[CV 2/5] END .......C=1000, gamma=1, kernel=rbf;, score=0.637 total time=   0.0s\n",
      "[CV 3/5] END .......C=1000, gamma=1, kernel=rbf;, score=0.625 total time=   0.0s\n",
      "[CV 4/5] END .......C=1000, gamma=1, kernel=rbf;, score=0.633 total time=   0.0s\n",
      "[CV 5/5] END .......C=1000, gamma=1, kernel=rbf;, score=0.633 total time=   0.0s\n",
      "[CV 1/5] END .....C=1000, gamma=0.1, kernel=rbf;, score=0.637 total time=   0.0s\n",
      "[CV 2/5] END .....C=1000, gamma=0.1, kernel=rbf;, score=0.637 total time=   0.0s\n",
      "[CV 3/5] END .....C=1000, gamma=0.1, kernel=rbf;, score=0.625 total time=   0.0s\n",
      "[CV 4/5] END .....C=1000, gamma=0.1, kernel=rbf;, score=0.633 total time=   0.0s\n",
      "[CV 5/5] END .....C=1000, gamma=0.1, kernel=rbf;, score=0.633 total time=   0.0s\n",
      "[CV 1/5] END ....C=1000, gamma=0.01, kernel=rbf;, score=0.637 total time=   0.0s\n",
      "[CV 2/5] END ....C=1000, gamma=0.01, kernel=rbf;, score=0.637 total time=   0.0s\n",
      "[CV 3/5] END ....C=1000, gamma=0.01, kernel=rbf;, score=0.613 total time=   0.0s\n",
      "[CV 4/5] END ....C=1000, gamma=0.01, kernel=rbf;, score=0.633 total time=   0.0s\n",
      "[CV 5/5] END ....C=1000, gamma=0.01, kernel=rbf;, score=0.633 total time=   0.0s\n",
      "[CV 1/5] END ...C=1000, gamma=0.001, kernel=rbf;, score=0.887 total time=   0.0s\n",
      "[CV 2/5] END ...C=1000, gamma=0.001, kernel=rbf;, score=0.912 total time=   0.0s\n",
      "[CV 3/5] END ...C=1000, gamma=0.001, kernel=rbf;, score=0.900 total time=   0.0s\n",
      "[CV 4/5] END ...C=1000, gamma=0.001, kernel=rbf;, score=0.937 total time=   0.0s\n",
      "[CV 5/5] END ...C=1000, gamma=0.001, kernel=rbf;, score=0.924 total time=   0.0s\n",
      "[CV 1/5] END ..C=1000, gamma=0.0001, kernel=rbf;, score=0.938 total time=   0.0s\n",
      "[CV 2/5] END ..C=1000, gamma=0.0001, kernel=rbf;, score=0.912 total time=   0.0s\n",
      "[CV 3/5] END ..C=1000, gamma=0.0001, kernel=rbf;, score=0.963 total time=   0.0s\n",
      "[CV 4/5] END ..C=1000, gamma=0.0001, kernel=rbf;, score=0.924 total time=   0.0s\n",
      "[CV 5/5] END ..C=1000, gamma=0.0001, kernel=rbf;, score=0.962 total time=   0.0s\n"
     ]
    },
    {
     "data": {
      "text/html": [
       "<style>#sk-container-id-2 {color: black;background-color: white;}#sk-container-id-2 pre{padding: 0;}#sk-container-id-2 div.sk-toggleable {background-color: white;}#sk-container-id-2 label.sk-toggleable__label {cursor: pointer;display: block;width: 100%;margin-bottom: 0;padding: 0.3em;box-sizing: border-box;text-align: center;}#sk-container-id-2 label.sk-toggleable__label-arrow:before {content: \"▸\";float: left;margin-right: 0.25em;color: #696969;}#sk-container-id-2 label.sk-toggleable__label-arrow:hover:before {color: black;}#sk-container-id-2 div.sk-estimator:hover label.sk-toggleable__label-arrow:before {color: black;}#sk-container-id-2 div.sk-toggleable__content {max-height: 0;max-width: 0;overflow: hidden;text-align: left;background-color: #f0f8ff;}#sk-container-id-2 div.sk-toggleable__content pre {margin: 0.2em;color: black;border-radius: 0.25em;background-color: #f0f8ff;}#sk-container-id-2 input.sk-toggleable__control:checked~div.sk-toggleable__content {max-height: 200px;max-width: 100%;overflow: auto;}#sk-container-id-2 input.sk-toggleable__control:checked~label.sk-toggleable__label-arrow:before {content: \"▾\";}#sk-container-id-2 div.sk-estimator input.sk-toggleable__control:checked~label.sk-toggleable__label {background-color: #d4ebff;}#sk-container-id-2 div.sk-label input.sk-toggleable__control:checked~label.sk-toggleable__label {background-color: #d4ebff;}#sk-container-id-2 input.sk-hidden--visually {border: 0;clip: rect(1px 1px 1px 1px);clip: rect(1px, 1px, 1px, 1px);height: 1px;margin: -1px;overflow: hidden;padding: 0;position: absolute;width: 1px;}#sk-container-id-2 div.sk-estimator {font-family: monospace;background-color: #f0f8ff;border: 1px dotted black;border-radius: 0.25em;box-sizing: border-box;margin-bottom: 0.5em;}#sk-container-id-2 div.sk-estimator:hover {background-color: #d4ebff;}#sk-container-id-2 div.sk-parallel-item::after {content: \"\";width: 100%;border-bottom: 1px solid gray;flex-grow: 1;}#sk-container-id-2 div.sk-label:hover label.sk-toggleable__label {background-color: #d4ebff;}#sk-container-id-2 div.sk-serial::before {content: \"\";position: absolute;border-left: 1px solid gray;box-sizing: border-box;top: 0;bottom: 0;left: 50%;z-index: 0;}#sk-container-id-2 div.sk-serial {display: flex;flex-direction: column;align-items: center;background-color: white;padding-right: 0.2em;padding-left: 0.2em;position: relative;}#sk-container-id-2 div.sk-item {position: relative;z-index: 1;}#sk-container-id-2 div.sk-parallel {display: flex;align-items: stretch;justify-content: center;background-color: white;position: relative;}#sk-container-id-2 div.sk-item::before, #sk-container-id-2 div.sk-parallel-item::before {content: \"\";position: absolute;border-left: 1px solid gray;box-sizing: border-box;top: 0;bottom: 0;left: 50%;z-index: -1;}#sk-container-id-2 div.sk-parallel-item {display: flex;flex-direction: column;z-index: 1;position: relative;background-color: white;}#sk-container-id-2 div.sk-parallel-item:first-child::after {align-self: flex-end;width: 50%;}#sk-container-id-2 div.sk-parallel-item:last-child::after {align-self: flex-start;width: 50%;}#sk-container-id-2 div.sk-parallel-item:only-child::after {width: 0;}#sk-container-id-2 div.sk-dashed-wrapped {border: 1px dashed gray;margin: 0 0.4em 0.5em 0.4em;box-sizing: border-box;padding-bottom: 0.4em;background-color: white;}#sk-container-id-2 div.sk-label label {font-family: monospace;font-weight: bold;display: inline-block;line-height: 1.2em;}#sk-container-id-2 div.sk-label-container {text-align: center;}#sk-container-id-2 div.sk-container {/* jupyter's `normalize.less` sets `[hidden] { display: none; }` but bootstrap.min.css set `[hidden] { display: none !important; }` so we also need the `!important` here to be able to override the default hidden behavior on the sphinx rendered scikit-learn.org. See: https://github.com/scikit-learn/scikit-learn/issues/21755 */display: inline-block !important;position: relative;}#sk-container-id-2 div.sk-text-repr-fallback {display: none;}</style><div id=\"sk-container-id-2\" class=\"sk-top-container\"><div class=\"sk-text-repr-fallback\"><pre>GridSearchCV(estimator=SVC(),\n",
       "             param_grid={&#x27;C&#x27;: [0.01, 0.1, 1, 10, 100, 1000],\n",
       "                         &#x27;gamma&#x27;: [10, 1, 0.1, 0.01, 0.001, 0.0001],\n",
       "                         &#x27;kernel&#x27;: [&#x27;rbf&#x27;]},\n",
       "             verbose=3)</pre><b>In a Jupyter environment, please rerun this cell to show the HTML representation or trust the notebook. <br />On GitHub, the HTML representation is unable to render, please try loading this page with nbviewer.org.</b></div><div class=\"sk-container\" hidden><div class=\"sk-item sk-dashed-wrapped\"><div class=\"sk-label-container\"><div class=\"sk-label sk-toggleable\"><input class=\"sk-toggleable__control sk-hidden--visually\" id=\"sk-estimator-id-2\" type=\"checkbox\" ><label for=\"sk-estimator-id-2\" class=\"sk-toggleable__label sk-toggleable__label-arrow\">GridSearchCV</label><div class=\"sk-toggleable__content\"><pre>GridSearchCV(estimator=SVC(),\n",
       "             param_grid={&#x27;C&#x27;: [0.01, 0.1, 1, 10, 100, 1000],\n",
       "                         &#x27;gamma&#x27;: [10, 1, 0.1, 0.01, 0.001, 0.0001],\n",
       "                         &#x27;kernel&#x27;: [&#x27;rbf&#x27;]},\n",
       "             verbose=3)</pre></div></div></div><div class=\"sk-parallel\"><div class=\"sk-parallel-item\"><div class=\"sk-item\"><div class=\"sk-label-container\"><div class=\"sk-label sk-toggleable\"><input class=\"sk-toggleable__control sk-hidden--visually\" id=\"sk-estimator-id-3\" type=\"checkbox\" ><label for=\"sk-estimator-id-3\" class=\"sk-toggleable__label sk-toggleable__label-arrow\">estimator: SVC</label><div class=\"sk-toggleable__content\"><pre>SVC()</pre></div></div></div><div class=\"sk-serial\"><div class=\"sk-item\"><div class=\"sk-estimator sk-toggleable\"><input class=\"sk-toggleable__control sk-hidden--visually\" id=\"sk-estimator-id-4\" type=\"checkbox\" ><label for=\"sk-estimator-id-4\" class=\"sk-toggleable__label sk-toggleable__label-arrow\">SVC</label><div class=\"sk-toggleable__content\"><pre>SVC()</pre></div></div></div></div></div></div></div></div></div></div>"
      ],
      "text/plain": [
       "GridSearchCV(estimator=SVC(),\n",
       "             param_grid={'C': [0.01, 0.1, 1, 10, 100, 1000],\n",
       "                         'gamma': [10, 1, 0.1, 0.01, 0.001, 0.0001],\n",
       "                         'kernel': ['rbf']},\n",
       "             verbose=3)"
      ]
     },
     "execution_count": 8,
     "metadata": {},
     "output_type": "execute_result"
    }
   ],
   "source": [
    "parameters_grid = {'C': [0.01,0.1,1, 10, 100, 1000], 'gamma': [10,1,0.1,0.01,0.001,0.0001], 'kernel': ['rbf']} \n",
    "from sklearn.model_selection import GridSearchCV\n",
    "SV_grid = GridSearchCV(SVC(),parameters_grid,refit=True,verbose=3)\n",
    "SV_grid.fit(X_train,y_train)"
   ]
  },
  {
   "cell_type": "code",
   "execution_count": 9,
   "id": "b1268db9",
   "metadata": {},
   "outputs": [
    {
     "data": {
      "text/html": [
       "<style>#sk-container-id-3 {color: black;background-color: white;}#sk-container-id-3 pre{padding: 0;}#sk-container-id-3 div.sk-toggleable {background-color: white;}#sk-container-id-3 label.sk-toggleable__label {cursor: pointer;display: block;width: 100%;margin-bottom: 0;padding: 0.3em;box-sizing: border-box;text-align: center;}#sk-container-id-3 label.sk-toggleable__label-arrow:before {content: \"▸\";float: left;margin-right: 0.25em;color: #696969;}#sk-container-id-3 label.sk-toggleable__label-arrow:hover:before {color: black;}#sk-container-id-3 div.sk-estimator:hover label.sk-toggleable__label-arrow:before {color: black;}#sk-container-id-3 div.sk-toggleable__content {max-height: 0;max-width: 0;overflow: hidden;text-align: left;background-color: #f0f8ff;}#sk-container-id-3 div.sk-toggleable__content pre {margin: 0.2em;color: black;border-radius: 0.25em;background-color: #f0f8ff;}#sk-container-id-3 input.sk-toggleable__control:checked~div.sk-toggleable__content {max-height: 200px;max-width: 100%;overflow: auto;}#sk-container-id-3 input.sk-toggleable__control:checked~label.sk-toggleable__label-arrow:before {content: \"▾\";}#sk-container-id-3 div.sk-estimator input.sk-toggleable__control:checked~label.sk-toggleable__label {background-color: #d4ebff;}#sk-container-id-3 div.sk-label input.sk-toggleable__control:checked~label.sk-toggleable__label {background-color: #d4ebff;}#sk-container-id-3 input.sk-hidden--visually {border: 0;clip: rect(1px 1px 1px 1px);clip: rect(1px, 1px, 1px, 1px);height: 1px;margin: -1px;overflow: hidden;padding: 0;position: absolute;width: 1px;}#sk-container-id-3 div.sk-estimator {font-family: monospace;background-color: #f0f8ff;border: 1px dotted black;border-radius: 0.25em;box-sizing: border-box;margin-bottom: 0.5em;}#sk-container-id-3 div.sk-estimator:hover {background-color: #d4ebff;}#sk-container-id-3 div.sk-parallel-item::after {content: \"\";width: 100%;border-bottom: 1px solid gray;flex-grow: 1;}#sk-container-id-3 div.sk-label:hover label.sk-toggleable__label {background-color: #d4ebff;}#sk-container-id-3 div.sk-serial::before {content: \"\";position: absolute;border-left: 1px solid gray;box-sizing: border-box;top: 0;bottom: 0;left: 50%;z-index: 0;}#sk-container-id-3 div.sk-serial {display: flex;flex-direction: column;align-items: center;background-color: white;padding-right: 0.2em;padding-left: 0.2em;position: relative;}#sk-container-id-3 div.sk-item {position: relative;z-index: 1;}#sk-container-id-3 div.sk-parallel {display: flex;align-items: stretch;justify-content: center;background-color: white;position: relative;}#sk-container-id-3 div.sk-item::before, #sk-container-id-3 div.sk-parallel-item::before {content: \"\";position: absolute;border-left: 1px solid gray;box-sizing: border-box;top: 0;bottom: 0;left: 50%;z-index: -1;}#sk-container-id-3 div.sk-parallel-item {display: flex;flex-direction: column;z-index: 1;position: relative;background-color: white;}#sk-container-id-3 div.sk-parallel-item:first-child::after {align-self: flex-end;width: 50%;}#sk-container-id-3 div.sk-parallel-item:last-child::after {align-self: flex-start;width: 50%;}#sk-container-id-3 div.sk-parallel-item:only-child::after {width: 0;}#sk-container-id-3 div.sk-dashed-wrapped {border: 1px dashed gray;margin: 0 0.4em 0.5em 0.4em;box-sizing: border-box;padding-bottom: 0.4em;background-color: white;}#sk-container-id-3 div.sk-label label {font-family: monospace;font-weight: bold;display: inline-block;line-height: 1.2em;}#sk-container-id-3 div.sk-label-container {text-align: center;}#sk-container-id-3 div.sk-container {/* jupyter's `normalize.less` sets `[hidden] { display: none; }` but bootstrap.min.css set `[hidden] { display: none !important; }` so we also need the `!important` here to be able to override the default hidden behavior on the sphinx rendered scikit-learn.org. See: https://github.com/scikit-learn/scikit-learn/issues/21755 */display: inline-block !important;position: relative;}#sk-container-id-3 div.sk-text-repr-fallback {display: none;}</style><div id=\"sk-container-id-3\" class=\"sk-top-container\"><div class=\"sk-text-repr-fallback\"><pre>SVC(C=1, gamma=0.0001)</pre><b>In a Jupyter environment, please rerun this cell to show the HTML representation or trust the notebook. <br />On GitHub, the HTML representation is unable to render, please try loading this page with nbviewer.org.</b></div><div class=\"sk-container\" hidden><div class=\"sk-item\"><div class=\"sk-estimator sk-toggleable\"><input class=\"sk-toggleable__control sk-hidden--visually\" id=\"sk-estimator-id-5\" type=\"checkbox\" checked><label for=\"sk-estimator-id-5\" class=\"sk-toggleable__label sk-toggleable__label-arrow\">SVC</label><div class=\"sk-toggleable__content\"><pre>SVC(C=1, gamma=0.0001)</pre></div></div></div></div></div>"
      ],
      "text/plain": [
       "SVC(C=1, gamma=0.0001)"
      ]
     },
     "execution_count": 9,
     "metadata": {},
     "output_type": "execute_result"
    }
   ],
   "source": [
    "SV_grid.best_params_\n",
    "SV_grid.best_estimator_"
   ]
  },
  {
   "cell_type": "code",
   "execution_count": 10,
   "id": "6e3521ea",
   "metadata": {},
   "outputs": [
    {
     "name": "stdout",
     "output_type": "stream",
     "text": [
      "[[101   4]\n",
      " [  7  59]]\n",
      "\n",
      "\n",
      "              precision    recall  f1-score   support\n",
      "\n",
      "           B       0.94      0.96      0.95       105\n",
      "           M       0.94      0.89      0.91        66\n",
      "\n",
      "    accuracy                           0.94       171\n",
      "   macro avg       0.94      0.93      0.93       171\n",
      "weighted avg       0.94      0.94      0.94       171\n",
      "\n"
     ]
    }
   ],
   "source": [
    "grid_predictions = SV_grid.predict(X_test)\n",
    "\n",
    "print(confusion_matrix(y_test,grid_predictions))\n",
    "print('\\n')\n",
    "print(classification_report(y_test,grid_predictions))"
   ]
  },
  {
   "cell_type": "code",
   "execution_count": 11,
   "id": "18dc1f56",
   "metadata": {},
   "outputs": [
    {
     "data": {
      "text/html": [
       "<style>#sk-container-id-4 {color: black;background-color: white;}#sk-container-id-4 pre{padding: 0;}#sk-container-id-4 div.sk-toggleable {background-color: white;}#sk-container-id-4 label.sk-toggleable__label {cursor: pointer;display: block;width: 100%;margin-bottom: 0;padding: 0.3em;box-sizing: border-box;text-align: center;}#sk-container-id-4 label.sk-toggleable__label-arrow:before {content: \"▸\";float: left;margin-right: 0.25em;color: #696969;}#sk-container-id-4 label.sk-toggleable__label-arrow:hover:before {color: black;}#sk-container-id-4 div.sk-estimator:hover label.sk-toggleable__label-arrow:before {color: black;}#sk-container-id-4 div.sk-toggleable__content {max-height: 0;max-width: 0;overflow: hidden;text-align: left;background-color: #f0f8ff;}#sk-container-id-4 div.sk-toggleable__content pre {margin: 0.2em;color: black;border-radius: 0.25em;background-color: #f0f8ff;}#sk-container-id-4 input.sk-toggleable__control:checked~div.sk-toggleable__content {max-height: 200px;max-width: 100%;overflow: auto;}#sk-container-id-4 input.sk-toggleable__control:checked~label.sk-toggleable__label-arrow:before {content: \"▾\";}#sk-container-id-4 div.sk-estimator input.sk-toggleable__control:checked~label.sk-toggleable__label {background-color: #d4ebff;}#sk-container-id-4 div.sk-label input.sk-toggleable__control:checked~label.sk-toggleable__label {background-color: #d4ebff;}#sk-container-id-4 input.sk-hidden--visually {border: 0;clip: rect(1px 1px 1px 1px);clip: rect(1px, 1px, 1px, 1px);height: 1px;margin: -1px;overflow: hidden;padding: 0;position: absolute;width: 1px;}#sk-container-id-4 div.sk-estimator {font-family: monospace;background-color: #f0f8ff;border: 1px dotted black;border-radius: 0.25em;box-sizing: border-box;margin-bottom: 0.5em;}#sk-container-id-4 div.sk-estimator:hover {background-color: #d4ebff;}#sk-container-id-4 div.sk-parallel-item::after {content: \"\";width: 100%;border-bottom: 1px solid gray;flex-grow: 1;}#sk-container-id-4 div.sk-label:hover label.sk-toggleable__label {background-color: #d4ebff;}#sk-container-id-4 div.sk-serial::before {content: \"\";position: absolute;border-left: 1px solid gray;box-sizing: border-box;top: 0;bottom: 0;left: 50%;z-index: 0;}#sk-container-id-4 div.sk-serial {display: flex;flex-direction: column;align-items: center;background-color: white;padding-right: 0.2em;padding-left: 0.2em;position: relative;}#sk-container-id-4 div.sk-item {position: relative;z-index: 1;}#sk-container-id-4 div.sk-parallel {display: flex;align-items: stretch;justify-content: center;background-color: white;position: relative;}#sk-container-id-4 div.sk-item::before, #sk-container-id-4 div.sk-parallel-item::before {content: \"\";position: absolute;border-left: 1px solid gray;box-sizing: border-box;top: 0;bottom: 0;left: 50%;z-index: -1;}#sk-container-id-4 div.sk-parallel-item {display: flex;flex-direction: column;z-index: 1;position: relative;background-color: white;}#sk-container-id-4 div.sk-parallel-item:first-child::after {align-self: flex-end;width: 50%;}#sk-container-id-4 div.sk-parallel-item:last-child::after {align-self: flex-start;width: 50%;}#sk-container-id-4 div.sk-parallel-item:only-child::after {width: 0;}#sk-container-id-4 div.sk-dashed-wrapped {border: 1px dashed gray;margin: 0 0.4em 0.5em 0.4em;box-sizing: border-box;padding-bottom: 0.4em;background-color: white;}#sk-container-id-4 div.sk-label label {font-family: monospace;font-weight: bold;display: inline-block;line-height: 1.2em;}#sk-container-id-4 div.sk-label-container {text-align: center;}#sk-container-id-4 div.sk-container {/* jupyter's `normalize.less` sets `[hidden] { display: none; }` but bootstrap.min.css set `[hidden] { display: none !important; }` so we also need the `!important` here to be able to override the default hidden behavior on the sphinx rendered scikit-learn.org. See: https://github.com/scikit-learn/scikit-learn/issues/21755 */display: inline-block !important;position: relative;}#sk-container-id-4 div.sk-text-repr-fallback {display: none;}</style><div id=\"sk-container-id-4\" class=\"sk-top-container\"><div class=\"sk-text-repr-fallback\"><pre>StandardScaler()</pre><b>In a Jupyter environment, please rerun this cell to show the HTML representation or trust the notebook. <br />On GitHub, the HTML representation is unable to render, please try loading this page with nbviewer.org.</b></div><div class=\"sk-container\" hidden><div class=\"sk-item\"><div class=\"sk-estimator sk-toggleable\"><input class=\"sk-toggleable__control sk-hidden--visually\" id=\"sk-estimator-id-6\" type=\"checkbox\" checked><label for=\"sk-estimator-id-6\" class=\"sk-toggleable__label sk-toggleable__label-arrow\">StandardScaler</label><div class=\"sk-toggleable__content\"><pre>StandardScaler()</pre></div></div></div></div></div>"
      ],
      "text/plain": [
       "StandardScaler()"
      ]
     },
     "execution_count": 11,
     "metadata": {},
     "output_type": "execute_result"
    }
   ],
   "source": [
    "from sklearn.preprocessing import StandardScaler\n",
    "scaler = StandardScaler()\n",
    "scaler.fit(df.drop('diagnosis',axis=1))"
   ]
  },
  {
   "cell_type": "code",
   "execution_count": 12,
   "id": "c71512f1",
   "metadata": {},
   "outputs": [
    {
     "data": {
      "text/html": [
       "<div>\n",
       "<style scoped>\n",
       "    .dataframe tbody tr th:only-of-type {\n",
       "        vertical-align: middle;\n",
       "    }\n",
       "\n",
       "    .dataframe tbody tr th {\n",
       "        vertical-align: top;\n",
       "    }\n",
       "\n",
       "    .dataframe thead th {\n",
       "        text-align: right;\n",
       "    }\n",
       "</style>\n",
       "<table border=\"1\" class=\"dataframe\">\n",
       "  <thead>\n",
       "    <tr style=\"text-align: right;\">\n",
       "      <th></th>\n",
       "      <th>diagnosis</th>\n",
       "      <th>radius_mean</th>\n",
       "      <th>texture_mean</th>\n",
       "      <th>perimeter_mean</th>\n",
       "      <th>area_mean</th>\n",
       "      <th>smoothness_mean</th>\n",
       "      <th>compactness_mean</th>\n",
       "      <th>concavity_mean</th>\n",
       "      <th>concave points_mean</th>\n",
       "      <th>symmetry_mean</th>\n",
       "      <th>...</th>\n",
       "      <th>fractal_dimension_se</th>\n",
       "      <th>radius_worst</th>\n",
       "      <th>texture_worst</th>\n",
       "      <th>perimeter_worst</th>\n",
       "      <th>area_worst</th>\n",
       "      <th>smoothness_worst</th>\n",
       "      <th>compactness_worst</th>\n",
       "      <th>concavity_worst</th>\n",
       "      <th>concave points_worst</th>\n",
       "      <th>symmetry_worst</th>\n",
       "    </tr>\n",
       "  </thead>\n",
       "  <tbody>\n",
       "    <tr>\n",
       "      <th>0</th>\n",
       "      <td>1.097064</td>\n",
       "      <td>-2.073335</td>\n",
       "      <td>1.269934</td>\n",
       "      <td>0.984375</td>\n",
       "      <td>1.568466</td>\n",
       "      <td>3.283515</td>\n",
       "      <td>2.652874</td>\n",
       "      <td>2.532475</td>\n",
       "      <td>2.217515</td>\n",
       "      <td>2.255747</td>\n",
       "      <td>...</td>\n",
       "      <td>1.886690</td>\n",
       "      <td>-1.359293</td>\n",
       "      <td>2.303601</td>\n",
       "      <td>2.001237</td>\n",
       "      <td>1.307686</td>\n",
       "      <td>2.616665</td>\n",
       "      <td>2.109526</td>\n",
       "      <td>2.296076</td>\n",
       "      <td>2.750622</td>\n",
       "      <td>1.937015</td>\n",
       "    </tr>\n",
       "    <tr>\n",
       "      <th>1</th>\n",
       "      <td>1.829821</td>\n",
       "      <td>-0.353632</td>\n",
       "      <td>1.685955</td>\n",
       "      <td>1.908708</td>\n",
       "      <td>-0.826962</td>\n",
       "      <td>-0.487072</td>\n",
       "      <td>-0.023846</td>\n",
       "      <td>0.548144</td>\n",
       "      <td>0.001392</td>\n",
       "      <td>-0.868652</td>\n",
       "      <td>...</td>\n",
       "      <td>1.805927</td>\n",
       "      <td>-0.369203</td>\n",
       "      <td>1.535126</td>\n",
       "      <td>1.890489</td>\n",
       "      <td>-0.375612</td>\n",
       "      <td>-0.430444</td>\n",
       "      <td>-0.146749</td>\n",
       "      <td>1.087084</td>\n",
       "      <td>-0.243890</td>\n",
       "      <td>0.281190</td>\n",
       "    </tr>\n",
       "    <tr>\n",
       "      <th>2</th>\n",
       "      <td>1.579888</td>\n",
       "      <td>0.456187</td>\n",
       "      <td>1.566503</td>\n",
       "      <td>1.558884</td>\n",
       "      <td>0.942210</td>\n",
       "      <td>1.052926</td>\n",
       "      <td>1.363478</td>\n",
       "      <td>2.037231</td>\n",
       "      <td>0.939685</td>\n",
       "      <td>-0.398008</td>\n",
       "      <td>...</td>\n",
       "      <td>1.511870</td>\n",
       "      <td>-0.023974</td>\n",
       "      <td>1.347475</td>\n",
       "      <td>1.456285</td>\n",
       "      <td>0.527407</td>\n",
       "      <td>1.082932</td>\n",
       "      <td>0.854974</td>\n",
       "      <td>1.955000</td>\n",
       "      <td>1.152255</td>\n",
       "      <td>0.201391</td>\n",
       "    </tr>\n",
       "    <tr>\n",
       "      <th>3</th>\n",
       "      <td>-0.768909</td>\n",
       "      <td>0.253732</td>\n",
       "      <td>-0.592687</td>\n",
       "      <td>-0.764464</td>\n",
       "      <td>3.283553</td>\n",
       "      <td>3.402909</td>\n",
       "      <td>1.915897</td>\n",
       "      <td>1.451707</td>\n",
       "      <td>2.867383</td>\n",
       "      <td>4.910919</td>\n",
       "      <td>...</td>\n",
       "      <td>-0.281464</td>\n",
       "      <td>0.133984</td>\n",
       "      <td>-0.249939</td>\n",
       "      <td>-0.550021</td>\n",
       "      <td>3.394275</td>\n",
       "      <td>3.893397</td>\n",
       "      <td>1.989588</td>\n",
       "      <td>2.175786</td>\n",
       "      <td>6.046041</td>\n",
       "      <td>4.935010</td>\n",
       "    </tr>\n",
       "    <tr>\n",
       "      <th>4</th>\n",
       "      <td>1.750297</td>\n",
       "      <td>-1.151816</td>\n",
       "      <td>1.776573</td>\n",
       "      <td>1.826229</td>\n",
       "      <td>0.280372</td>\n",
       "      <td>0.539340</td>\n",
       "      <td>1.371011</td>\n",
       "      <td>1.428493</td>\n",
       "      <td>-0.009560</td>\n",
       "      <td>-0.562450</td>\n",
       "      <td>...</td>\n",
       "      <td>1.298575</td>\n",
       "      <td>-1.466770</td>\n",
       "      <td>1.338539</td>\n",
       "      <td>1.220724</td>\n",
       "      <td>0.220556</td>\n",
       "      <td>-0.313395</td>\n",
       "      <td>0.613179</td>\n",
       "      <td>0.729259</td>\n",
       "      <td>-0.868353</td>\n",
       "      <td>-0.397100</td>\n",
       "    </tr>\n",
       "  </tbody>\n",
       "</table>\n",
       "<p>5 rows × 30 columns</p>\n",
       "</div>"
      ],
      "text/plain": [
       "   diagnosis  radius_mean  texture_mean  perimeter_mean  area_mean  \\\n",
       "0   1.097064    -2.073335      1.269934        0.984375   1.568466   \n",
       "1   1.829821    -0.353632      1.685955        1.908708  -0.826962   \n",
       "2   1.579888     0.456187      1.566503        1.558884   0.942210   \n",
       "3  -0.768909     0.253732     -0.592687       -0.764464   3.283553   \n",
       "4   1.750297    -1.151816      1.776573        1.826229   0.280372   \n",
       "\n",
       "   smoothness_mean  compactness_mean  concavity_mean  concave points_mean  \\\n",
       "0         3.283515          2.652874        2.532475             2.217515   \n",
       "1        -0.487072         -0.023846        0.548144             0.001392   \n",
       "2         1.052926          1.363478        2.037231             0.939685   \n",
       "3         3.402909          1.915897        1.451707             2.867383   \n",
       "4         0.539340          1.371011        1.428493            -0.009560   \n",
       "\n",
       "   symmetry_mean  ...  fractal_dimension_se  radius_worst  texture_worst  \\\n",
       "0       2.255747  ...              1.886690     -1.359293       2.303601   \n",
       "1      -0.868652  ...              1.805927     -0.369203       1.535126   \n",
       "2      -0.398008  ...              1.511870     -0.023974       1.347475   \n",
       "3       4.910919  ...             -0.281464      0.133984      -0.249939   \n",
       "4      -0.562450  ...              1.298575     -1.466770       1.338539   \n",
       "\n",
       "   perimeter_worst  area_worst  smoothness_worst  compactness_worst  \\\n",
       "0         2.001237    1.307686          2.616665           2.109526   \n",
       "1         1.890489   -0.375612         -0.430444          -0.146749   \n",
       "2         1.456285    0.527407          1.082932           0.854974   \n",
       "3        -0.550021    3.394275          3.893397           1.989588   \n",
       "4         1.220724    0.220556         -0.313395           0.613179   \n",
       "\n",
       "   concavity_worst  concave points_worst  symmetry_worst  \n",
       "0         2.296076              2.750622        1.937015  \n",
       "1         1.087084             -0.243890        0.281190  \n",
       "2         1.955000              1.152255        0.201391  \n",
       "3         2.175786              6.046041        4.935010  \n",
       "4         0.729259             -0.868353       -0.397100  \n",
       "\n",
       "[5 rows x 30 columns]"
      ]
     },
     "execution_count": 12,
     "metadata": {},
     "output_type": "execute_result"
    }
   ],
   "source": [
    "scaled_features = scaler.transform(df.drop('diagnosis',axis=1))\n",
    "df_scaled = pd.DataFrame(scaled_features,columns=df.columns[:-1])\n",
    "df_scaled.head()"
   ]
  },
  {
   "cell_type": "code",
   "execution_count": 13,
   "id": "9db6f0c8",
   "metadata": {},
   "outputs": [],
   "source": [
    "X_train1, X_test1, y_train1, y_test1 = train_test_split(scaled_features,df['diagnosis'],\n",
    "                                                    test_size=0.30, random_state=101)"
   ]
  },
  {
   "cell_type": "code",
   "execution_count": 14,
   "id": "d184be6c",
   "metadata": {},
   "outputs": [
    {
     "name": "stdout",
     "output_type": "stream",
     "text": [
      "[[102   3]\n",
      " [  5  61]]\n",
      "\n",
      "\n",
      "              precision    recall  f1-score   support\n",
      "\n",
      "           B       0.95      0.97      0.96       105\n",
      "           M       0.95      0.92      0.94        66\n",
      "\n",
      "    accuracy                           0.95       171\n",
      "   macro avg       0.95      0.95      0.95       171\n",
      "weighted avg       0.95      0.95      0.95       171\n",
      "\n"
     ]
    }
   ],
   "source": [
    "from sklearn.neighbors import KNeighborsClassifier\n",
    "KNN_model = KNeighborsClassifier(n_neighbors=1)\n",
    "KNN_model.fit(X_train1,y_train1)\n",
    "KNN_predictions = KNN_model.predict(X_test1)\n",
    "\n",
    "print(confusion_matrix(y_test1,KNN_predictions))\n",
    "print('\\n')\n",
    "print(classification_report(y_test1,KNN_predictions))"
   ]
  },
  {
   "cell_type": "code",
   "execution_count": 35,
   "id": "6242f7f5",
   "metadata": {
    "scrolled": true
   },
   "outputs": [],
   "source": [
    "error_rate = []\n",
    "\n",
    "for i in range(1,30):\n",
    "    \n",
    "    KNN_model = KNeighborsClassifier(n_neighbors=i)\n",
    "    KNN_model.fit(X_train1,y_train1)\n",
    "    pred_i = KNN_model.predict(X_test1)\n",
    "    error_rate.append(np.mean(pred_i != y_test1))"
   ]
  },
  {
   "cell_type": "code",
   "execution_count": 42,
   "id": "ac675b36",
   "metadata": {},
   "outputs": [
    {
     "data": {
      "text/plain": [
       "Text(0, 0.5, 'Error Rate')"
      ]
     },
     "execution_count": 42,
     "metadata": {},
     "output_type": "execute_result"
    },
    {
     "data": {
      "image/png": "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