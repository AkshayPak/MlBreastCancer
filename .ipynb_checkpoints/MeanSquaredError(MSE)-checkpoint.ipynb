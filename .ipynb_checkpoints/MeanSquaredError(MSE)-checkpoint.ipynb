{
 "cells": [
  {
   "cell_type": "code",
   "execution_count": 1,
   "id": "ba0108d9",
   "metadata": {},
   "outputs": [
    {
     "data": {
      "text/plain": [
       "0.21606"
      ]
     },
     "execution_count": 1,
     "metadata": {},
     "output_type": "execute_result"
    }
   ],
   "source": [
    "from sklearn.metrics import mean_squared_error\n",
    "\n",
    "# Given values\n",
    "Y_true = [1,1,2,2,4] # Y_true = Y (original values)\n",
    "\n",
    "# calculated values\n",
    "Y_pred = [0.6,1.29,1.99,2.69,3.4] # Y_pred = Y'\n",
    "\n",
    "# Calculation of Mean Squared Error (MSE)\n",
    "mean_squared_error(Y_true,Y_pred)\n"
   ]
  },
  {
   "cell_type": "code",
   "execution_count": 3,
   "id": "70da571c",
   "metadata": {},
   "outputs": [
    {
     "data": {
      "text/plain": [
       "0.21606"
      ]
     },
     "execution_count": 3,
     "metadata": {},
     "output_type": "execute_result"
    }
   ],
   "source": [
    "import numpy as np\n",
    "\n",
    "# Given values\n",
    "Y_true = [1,1,2,2,4] # Y_true = Y (original values)\n",
    "\n",
    "# Calculated values\n",
    "Y_pred = [0.6,1.29,1.99,2.69,3.4] # Y_pred = Y'\n",
    "\n",
    "# Mean Squared Error\n",
    "MSE = np.square(np.subtract(Y_true,Y_pred)).mean()\n",
    "MSE"
   ]
  },
  {
   "cell_type": "code",
   "execution_count": null,
   "id": "3509ad1a",
   "metadata": {},
   "outputs": [],
   "source": []
  }
 ],
 "metadata": {
  "kernelspec": {
   "display_name": "Python 3 (ipykernel)",
   "language": "python",
   "name": "python3"
  },
  "language_info": {
   "codemirror_mode": {
    "name": "ipython",
    "version": 3
   },
   "file_extension": ".py",
   "mimetype": "text/x-python",
   "name": "python",
   "nbconvert_exporter": "python",
   "pygments_lexer": "ipython3",
   "version": "3.10.2"
  }
 },
 "nbformat": 4,
 "nbformat_minor": 5
}
